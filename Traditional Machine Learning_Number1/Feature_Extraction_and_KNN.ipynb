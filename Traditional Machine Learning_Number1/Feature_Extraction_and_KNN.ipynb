{
  "nbformat": 4,
  "nbformat_minor": 0,
  "metadata": {
    "colab": {
      "provenance": [],
      "collapsed_sections": []
    },
    "kernelspec": {
      "name": "python3",
      "display_name": "Python 3"
    },
    "language_info": {
      "name": "python"
    },
    "accelerator": "GPU"
  },
  "cells": [
    {
      "cell_type": "markdown",
      "source": [
        "#Bukenya Andrew\n",
        "#2021/HD05/2288U\n",
        "#2100702288\n",
        "\n",
        "##Feature Extraction and Classifying with K-Nearest Neighbors (KNN)"
      ],
      "metadata": {
        "id": "kUDbAvL4mc07"
      }
    },
    {
      "cell_type": "code",
      "source": [
        "from google.colab import drive\n",
        "drive.mount(\"/content/gdrive\")"
      ],
      "metadata": {
        "colab": {
          "base_uri": "https://localhost:8080/"
        },
        "id": "rmjTVo7wnSjS",
        "outputId": "cb5bb85b-453a-471c-994e-69aa6a55ff65"
      },
      "execution_count": 1,
      "outputs": [
        {
          "output_type": "stream",
          "name": "stdout",
          "text": [
            "Mounted at /content/gdrive\n"
          ]
        }
      ]
    },
    {
      "cell_type": "code",
      "source": [
        "%cd /content/gdrive/MyDrive/AndrewsProject1/project_files/crop_classisfication"
      ],
      "metadata": {
        "colab": {
          "base_uri": "https://localhost:8080/"
        },
        "id": "SIJDG9Vzo6Qr",
        "outputId": "caadba7c-6e54-4830-8c27-d02b6a4a0039"
      },
      "execution_count": 2,
      "outputs": [
        {
          "output_type": "stream",
          "name": "stdout",
          "text": [
            "/content/gdrive/MyDrive/AndrewsProject1/project_files/crop_classisfication\n"
          ]
        }
      ]
    },
    {
      "cell_type": "code",
      "execution_count": 3,
      "metadata": {
        "colab": {
          "base_uri": "https://localhost:8080/",
          "height": 1000
        },
        "id": "DWMKcA1OhXjK",
        "outputId": "10dd95b4-bcf4-464c-8d45-487b7000419d"
      },
      "outputs": [
        {
          "output_type": "stream",
          "name": "stdout",
          "text": [
            "Algorithm time: 2.300s\n",
            "\n",
            " Output samples after splitting the data\n",
            "\n",
            "X_train\n",
            "[[  0.   0.   0. ...   0.   0.   0.]\n",
            " [ 41. 139.  91. ...   7.   2.   2.]\n",
            " [ 16.   3.   0. ...   0.   0.  78.]\n",
            " ...\n",
            " [  3.   0.   0. ...   1.   2.   2.]\n",
            " [105.  62.  25. ...  15.   5.  40.]\n",
            " [  0.   0.   0. ...   0.   0.   0.]]\n",
            "\n",
            " X_test\n",
            "[[ 0.  0.  0. ... 69.  6. 18.]\n",
            " [14.  2.  0. ... 25. 10.  0.]\n",
            " [39. 33. 29. ...  0.  0.  1.]\n",
            " ...\n",
            " [ 1.  0.  0. ...  0.  0.  0.]\n",
            " [93.  1.  0. ...  0.  0.  0.]\n",
            " [ 0. 64. 61. ...  0.  0.  0.]]\n",
            "\n",
            " y_train\n",
            "[0 1 0 0 1 0 0 0 1 0 1 0 1 1 0 1 1 1 1 1 0 0 0 1 0 1 1 0 1 1 1 1 1 1 0 0 0\n",
            " 0 1 1 1 1 0 1 0 0 1 1 1 0 0 1 1 0 1 0 0 0 1 0 1 1 0 1 0 0 0 1 1 0 1 0 0 0\n",
            " 0 1 0 0 0 1 1]\n",
            "\n",
            " y_test\n",
            "[1 1 0 1 1 1 1 1 0 0 1 0 0 0 1 1 1 0 1 1 0 1 1 0 0 0 0 1 1 0 1 0 1 0 0 0]\n",
            "\n",
            " Accuracy: 0.8611111111111112\n",
            "\n",
            " Precision: 0.8611111111111112\n",
            "\n",
            " Recall: 0.8611111111111112\n",
            "\n",
            " CLASSIFICATION REPORT \n",
            "\n",
            "              precision    recall  f1-score   support\n",
            "\n",
            "      banana       0.93      0.76      0.84        17\n",
            "     cassava       0.82      0.95      0.88        19\n",
            "\n",
            "    accuracy                           0.86        36\n",
            "   macro avg       0.87      0.86      0.86        36\n",
            "weighted avg       0.87      0.86      0.86        36\n",
            "\n",
            "\n",
            "The program executed in: 2.434s\n"
          ]
        },
        {
          "output_type": "error",
          "ename": "error",
          "evalue": "ignored",
          "traceback": [
            "\u001b[0;31m---------------------------------------------------------------------------\u001b[0m",
            "\u001b[0;31merror\u001b[0m                                     Traceback (most recent call last)",
            "\u001b[0;32m<ipython-input-3-52bcf309ebcd>\u001b[0m in \u001b[0;36m<module>\u001b[0;34m\u001b[0m\n\u001b[1;32m     99\u001b[0m     \u001b[0mlabels\u001b[0m \u001b[0;34m=\u001b[0m \u001b[0mY\u001b[0m\u001b[0;34m[\u001b[0m\u001b[0;34m:\u001b[0m\u001b[0;34m]\u001b[0m\u001b[0;34m\u001b[0m\u001b[0;34m\u001b[0m\u001b[0m\n\u001b[1;32m    100\u001b[0m     \u001b[0;31m# Executing the feature_number() function\u001b[0m\u001b[0;34m\u001b[0m\u001b[0;34m\u001b[0m\u001b[0;34m\u001b[0m\u001b[0m\n\u001b[0;32m--> 101\u001b[0;31m     \u001b[0mlist_data\u001b[0m\u001b[0;34m,\u001b[0m \u001b[0mind\u001b[0m \u001b[0;34m=\u001b[0m \u001b[0mfeature_number\u001b[0m\u001b[0;34m(\u001b[0m\u001b[0mfeature\u001b[0m\u001b[0;34m)\u001b[0m\u001b[0;34m\u001b[0m\u001b[0;34m\u001b[0m\u001b[0m\n\u001b[0m\u001b[1;32m    102\u001b[0m     \u001b[0;31m# Iterate through the list to delete data that didn't meet a sufficient number of features.\u001b[0m\u001b[0;34m\u001b[0m\u001b[0;34m\u001b[0m\u001b[0;34m\u001b[0m\u001b[0m\n\u001b[1;32m    103\u001b[0m     \u001b[0;32mfor\u001b[0m \u001b[0mi\u001b[0m \u001b[0;32min\u001b[0m \u001b[0msorted\u001b[0m\u001b[0;34m(\u001b[0m\u001b[0mind\u001b[0m\u001b[0;34m,\u001b[0m \u001b[0mreverse\u001b[0m\u001b[0;34m=\u001b[0m\u001b[0;32mTrue\u001b[0m\u001b[0;34m)\u001b[0m\u001b[0;34m:\u001b[0m\u001b[0;34m\u001b[0m\u001b[0;34m\u001b[0m\u001b[0m\n",
            "\u001b[0;32m<ipython-input-3-52bcf309ebcd>\u001b[0m in \u001b[0;36mfeature_number\u001b[0;34m(feature)\u001b[0m\n\u001b[1;32m     56\u001b[0m   \u001b[0;32mfor\u001b[0m \u001b[0mi\u001b[0m \u001b[0;32min\u001b[0m \u001b[0mrange\u001b[0m\u001b[0;34m(\u001b[0m\u001b[0mlen\u001b[0m\u001b[0;34m(\u001b[0m\u001b[0mX\u001b[0m\u001b[0;34m)\u001b[0m\u001b[0;34m)\u001b[0m\u001b[0;34m:\u001b[0m\u001b[0;34m\u001b[0m\u001b[0;34m\u001b[0m\u001b[0m\n\u001b[1;32m     57\u001b[0m     \u001b[0;31m# Execution of SIFT, SURF and ORB functions\u001b[0m\u001b[0;34m\u001b[0m\u001b[0;34m\u001b[0m\u001b[0;34m\u001b[0m\u001b[0m\n\u001b[0;32m---> 58\u001b[0;31m     \u001b[0mkp\u001b[0m\u001b[0;34m,\u001b[0m \u001b[0mdes\u001b[0m \u001b[0;34m=\u001b[0m \u001b[0mfeature\u001b[0m\u001b[0;34m(\u001b[0m\u001b[0mX\u001b[0m\u001b[0;34m[\u001b[0m\u001b[0mi\u001b[0m\u001b[0;34m]\u001b[0m\u001b[0;34m)\u001b[0m\u001b[0;34m\u001b[0m\u001b[0;34m\u001b[0m\u001b[0m\n\u001b[0m\u001b[1;32m     59\u001b[0m     \u001b[0;31m# If the number of features in that image is less than 20, the image does not qualify\u001b[0m\u001b[0;34m\u001b[0m\u001b[0;34m\u001b[0m\u001b[0;34m\u001b[0m\u001b[0m\n\u001b[1;32m     60\u001b[0m     \u001b[0;32mif\u001b[0m \u001b[0mlen\u001b[0m\u001b[0;34m(\u001b[0m\u001b[0mkp\u001b[0m\u001b[0;34m)\u001b[0m \u001b[0;34m<\u001b[0m \u001b[0;36m20\u001b[0m\u001b[0;34m:\u001b[0m\u001b[0;34m\u001b[0m\u001b[0;34m\u001b[0m\u001b[0m\n",
            "\u001b[0;32m<ipython-input-3-52bcf309ebcd>\u001b[0m in \u001b[0;36msurf\u001b[0;34m(img)\u001b[0m\n\u001b[1;32m     33\u001b[0m \u001b[0;32mdef\u001b[0m \u001b[0msurf\u001b[0m\u001b[0;34m(\u001b[0m\u001b[0mimg\u001b[0m\u001b[0;34m)\u001b[0m\u001b[0;34m:\u001b[0m\u001b[0;34m\u001b[0m\u001b[0;34m\u001b[0m\u001b[0m\n\u001b[1;32m     34\u001b[0m   \u001b[0;31m#Create SURF method to exclude features, and return kp and des\"\"\"\u001b[0m\u001b[0;34m\u001b[0m\u001b[0;34m\u001b[0m\u001b[0;34m\u001b[0m\u001b[0m\n\u001b[0;32m---> 35\u001b[0;31m   \u001b[0msurf\u001b[0m \u001b[0;34m=\u001b[0m \u001b[0mcv2\u001b[0m\u001b[0;34m.\u001b[0m\u001b[0mxfeatures2d\u001b[0m\u001b[0;34m.\u001b[0m\u001b[0mSURF_create\u001b[0m\u001b[0;34m(\u001b[0m\u001b[0;34m)\u001b[0m\u001b[0;34m\u001b[0m\u001b[0;34m\u001b[0m\u001b[0m\n\u001b[0m\u001b[1;32m     36\u001b[0m   \u001b[0;31m# Determining the  extracted features and their quantity\u001b[0m\u001b[0;34m\u001b[0m\u001b[0;34m\u001b[0m\u001b[0;34m\u001b[0m\u001b[0m\n\u001b[1;32m     37\u001b[0m   \u001b[0mkp\u001b[0m\u001b[0;34m,\u001b[0m \u001b[0mdes\u001b[0m \u001b[0;34m=\u001b[0m \u001b[0msurf\u001b[0m\u001b[0;34m.\u001b[0m\u001b[0mdetectAndCompute\u001b[0m\u001b[0;34m(\u001b[0m\u001b[0mimg\u001b[0m\u001b[0;34m,\u001b[0m\u001b[0;32mNone\u001b[0m\u001b[0;34m)\u001b[0m\u001b[0;34m\u001b[0m\u001b[0;34m\u001b[0m\u001b[0m\n",
            "\u001b[0;31merror\u001b[0m: OpenCV(4.6.0) /io/opencv_contrib/modules/xfeatures2d/src/surf.cpp:1027: error: (-213:The function/feature is not implemented) This algorithm is patented and is excluded in this configuration; Set OPENCV_ENABLE_NONFREE CMake option and rebuild the library in function 'create'\n"
          ]
        }
      ],
      "source": [
        "# Importing required modules\n",
        "import pickle\n",
        "import numpy as np\n",
        "import matplotlib.pyplot as plt\n",
        "import cv2\n",
        "from time import time\n",
        "from sklearn.model_selection import train_test_split\n",
        "from sklearn.preprocessing import LabelEncoder\n",
        "from sklearn import metrics\n",
        "from sklearn.model_selection import GridSearchCV\n",
        "from sklearn.datasets import fetch_lfw_people\n",
        "from sklearn.metrics import classification_report\n",
        "from sklearn import svm\n",
        "import joblib\n",
        "\n",
        "def data(X_path,Y_path):\n",
        "  \"\"\"RestorING X and Y lists from the pickle files\"\"\"\n",
        "  # Open the X.pickle file\n",
        "  pickle_in = open(X_path, \"rb\")\n",
        "  X = pickle.load(pickle_in)\n",
        "  # Open the Y.pickle file\n",
        "  pickle_in = open(Y_path, \"rb\")\n",
        "  Y = pickle.load(pickle_in)\n",
        "  return X, Y\n",
        "\n",
        "def sift(img):\n",
        "  #Create SIFT method to exclude features, and return kp and des\n",
        "  sift = cv2.xfeatures2d.SIFT_create()\n",
        "  # Determining the  extracted features and their quantity\n",
        "  kp, des = sift.detectAndCompute(img,None)\n",
        "  return kp, des\n",
        "\n",
        "def surf(img):\n",
        "  #Create SURF method to exclude features, and return kp and des\"\"\"\n",
        "  surf = cv2.xfeatures2d.SURF_create()\n",
        "  # Determining the  extracted features and their quantity\n",
        "  kp, des = surf.detectAndCompute(img,None)\n",
        "  return kp, des\n",
        "\n",
        "#Added ORB to compare its features with those of sift and surf\n",
        "def orb(img):\n",
        "  #Create ORB method to exclude features, and return kp and des\n",
        "  orb = cv2.ORB_create()\n",
        "  # Determining the extracted features and their quantity\n",
        "  kp, des = orb.detectAndCompute(img,None)\n",
        "  return kp, des\n",
        "\n",
        "def feature_number(feature):\n",
        "  \"\"\"Creating a list with the features of individual images, and returning list_data and ind\"\"\"\n",
        "  # Creating a blank list ind\n",
        "  ind = []\n",
        "  # Create a blank list_data list\n",
        "  list_data = []\n",
        "  t0 = time()\n",
        "  # Iteration from 0 to the total number of data in X\n",
        "  for i in range(len(X)):\n",
        "    # Execution of SIFT, SURF and ORB functions\n",
        "    kp, des = feature(X[i])\n",
        "    # If the number of features in that image is less than 20, the image does not qualify\n",
        "    if len(kp) < 20:\n",
        "      # Adding to ind list\n",
        "      ind.append(i)\n",
        "      continue\n",
        "    # Forming a feature of equal size (equal number of data)\n",
        "    des = des[0:20,:]\n",
        "    # Formation of the obtained feature data in the form 1, len (des) * len (des [1])\n",
        "    vector_data = des.reshape(1,len(des)*len(des[1]))\n",
        "    # Adding vector_data to the list_data list\n",
        "    list_data.append(vector_data)\n",
        "  # List of names of feature extraction methods\n",
        "  features = ['sift', 'surf', \"orb\"]\n",
        "  print(\"Algorithm time: %0.3fs\" % (time() - t0))\n",
        "  return list_data, ind\n",
        "\n",
        "#def knn_save(path):\n",
        " #\"\"\"Saving SVM model\"\"\"\n",
        "#joblib.dump(path)\n",
        "\n",
        "if __name__ == '__main__': \n",
        "  # List of categories\n",
        "  categories = [\"banana\", \"cassava\"]\n",
        "  # The directory where the X and Y data is located\n",
        "  X_path = \"/content/gdrive/MyDrive/AndrewsProject1/project_files/X.pickle\"\n",
        "  Y_path = \"/content/gdrive/MyDrive/AndrewsProject1/project_files/Y.pickle\"\n",
        "\n",
        "  # Image width\n",
        "  IMG_W = int(161)\n",
        "  # Image height\n",
        "  IMG_H = int(150)\n",
        "  # Executing the data() function\n",
        "  X, Y = data(X_path, Y_path)\n",
        "  # List of names of feature extraction methods\n",
        "  features = ['sift', 'surf', 'orb']\n",
        "  a = 0\n",
        "  # Iterate through individual features\n",
        "  for feature in [sift, surf, orb]:\n",
        "    t1 = time()\n",
        "    # Copying data from Y\n",
        "    labels = Y[:]\n",
        "    # Executing the feature_number() function\n",
        "    list_data, ind = feature_number(feature)\n",
        "    # Iterate through the list to delete data that didn't meet a sufficient number of features.\n",
        "    for i in sorted(ind, reverse=True):\n",
        "      del labels[i]\n",
        "\n",
        "    # Creating a vector in the form of len (labels), len (list_data [0] [0])\n",
        "    data = np.array(list_data).reshape(len(labels),len(list_data[0][0]))\n",
        "    # Creating a vector\n",
        "    le = LabelEncoder()\n",
        "    labels = le.fit_transform(labels)\n",
        "    # Division of dataset into train and test data\n",
        "\n",
        "    X_train, X_test, y_train, y_test = train_test_split(data, labels, test_size=0.3, random_state=42) # 70% training and 30% test\n",
        "\n",
        "    print(\"\\n Output samples after splitting the data\")\n",
        "    print(\"\\nX_train\")\n",
        "    print(X_train)\n",
        "\n",
        "    print(\"\\n X_test\")\n",
        "    print(X_test)\n",
        "\n",
        "    print(\"\\n y_train\")\n",
        "    print(y_train)\n",
        "\n",
        "    print(\"\\n y_test\")\n",
        "    print(y_test)\n",
        "\n",
        "    #Defining the model and training.\n",
        "    # Import the KNN model \n",
        "\n",
        "    from sklearn.neighbors import KNeighborsClassifier\n",
        "\n",
        "    # Instantiate model with 5 neighbors\n",
        "    model = KNeighborsClassifier(n_neighbors = 5)\n",
        "\n",
        "    # Train the model on training data\n",
        "    model.fit(X_train, y_train)\n",
        "\n",
        "    y_pred = model.predict(X_test)\n",
        "  \n",
        "    print(\"\\n Accuracy:\",metrics.accuracy_score(y_test, y_pred))\n",
        "    # Model precision: what is the percentage of positive identifications in a set of positively classified data? TP / (TP + FP)\n",
        "    print(\"\\n Precision:\",metrics.precision_score(y_test, y_pred, average='micro'))\n",
        "    # Model recall: what is the percentage of positive identifications in the set of all positive data? TP / (TP + FN)\n",
        "    print(\"\\n Recall:\",metrics.recall_score(y_test, y_pred, average='micro'))\n",
        "    # Table of results obtained\n",
        "\n",
        "    print(\"\\n CLASSIFICATION REPORT \\n\")\n",
        "    print(classification_report(y_test, y_pred, target_names=categories))\n",
        "    #print(\"Model testing time: %0.3fs\" % (time() - t0))\n",
        "\n",
        "    print(\"\\nThe program executed in: %0.3fs\" % (time() - t1))\n",
        "\n",
        "  "
      ]
    }
  ]
}