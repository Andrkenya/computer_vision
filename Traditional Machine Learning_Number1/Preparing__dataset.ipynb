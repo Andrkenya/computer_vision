{
  "nbformat": 4,
  "nbformat_minor": 0,
  "metadata": {
    "colab": {
      "provenance": [],
      "collapsed_sections": []
    },
    "kernelspec": {
      "name": "python3",
      "display_name": "Python 3"
    },
    "language_info": {
      "name": "python"
    },
    "accelerator": "GPU"
  },
  "cells": [
    {
      "cell_type": "markdown",
      "source": [
        "#Bukenya Andrew\n",
        "#2021/HD05/2288U\n",
        "#2100702288\n"
      ],
      "metadata": {
        "id": "4uzWXOVtUuVC"
      }
    },
    {
      "cell_type": "markdown",
      "source": [
        "#Mounting google drive"
      ],
      "metadata": {
        "id": "XBg3gTqIU_in"
      }
    },
    {
      "cell_type": "code",
      "execution_count": 1,
      "metadata": {
        "id": "coShi1FJUsZn",
        "colab": {
          "base_uri": "https://localhost:8080/"
        },
        "outputId": "269f0078-81ce-433e-b077-74d77515c7bc"
      },
      "outputs": [
        {
          "output_type": "stream",
          "name": "stdout",
          "text": [
            "Mounted at /content/gdrive\n"
          ]
        }
      ],
      "source": [
        "from google.colab import drive\n",
        "\n",
        "drive.mount(\"/content/gdrive\")"
      ]
    },
    {
      "cell_type": "markdown",
      "source": [
        "#Changing to crop classification directory"
      ],
      "metadata": {
        "id": "VxnAst6NbsEG"
      }
    },
    {
      "cell_type": "code",
      "source": [
        "%cd /content/gdrive/MyDrive/AndrewsProject1/project_files/crop_classisfication"
      ],
      "metadata": {
        "id": "FHRZtdc2U491",
        "colab": {
          "base_uri": "https://localhost:8080/"
        },
        "outputId": "6cba9200-2b47-4910-b0f6-8e474c8b272e"
      },
      "execution_count": 2,
      "outputs": [
        {
          "output_type": "stream",
          "name": "stdout",
          "text": [
            "/content/gdrive/MyDrive/AndrewsProject1/project_files/crop_classisfication\n"
          ]
        }
      ]
    },
    {
      "cell_type": "markdown",
      "source": [
        "#Preparing the dataset and saving output to pickle format"
      ],
      "metadata": {
        "id": "3ydU0GnKb0QF"
      }
    },
    {
      "cell_type": "code",
      "source": [
        "#Importing required modules\n",
        "import numpy as np\n",
        "import matplotlib.pyplot as plt\n",
        "import os\n",
        "import cv2\n",
        "from tqdm import tqdm\n",
        "import random\n",
        "import pickle\n",
        "\n",
        "# Directory in which individual categories are located\n",
        "DATADIR = \"/content/gdrive/MyDrive/AndrewsProject1/project_files/crops\"\n",
        "\n",
        "categories = [\"banana\", \"cassava\"]\n",
        "\n",
        "# Image width\n",
        "IMG_W = int(161)\n",
        "# Image height\n",
        "IMG_H = int(150)\n",
        "\n",
        "data_set = []\n",
        "\n",
        "def creat_data_set():\n",
        "\n",
        "    \"\"\"Save images to data_set list\"\"\"\n",
        "    # Iterate through the categories list\n",
        "    for category in categories:  \n",
        "        # A directory that contains images for a specific category\n",
        "        path = os.path.join(DATADIR,category)  \n",
        "        # Index of the current category in the categories list\n",
        "        class_num = categories.index(category)  \n",
        "        # Names of individual images\n",
        "        for image in tqdm(os.listdir(path)):  \n",
        "            try:\n",
        "                # Image upload\n",
        "                img_array = cv2.imread(os.path.join(path,image),cv2.IMREAD_GRAYSCALE) \n",
        "                # Image resizing\n",
        "                new_array = cv2.resize(img_array, (IMG_W, IMG_H)) \n",
        "                # Adding an image and category index to the data_set list\n",
        "                data_set.append([new_array, class_num]) \n",
        "            # Ignoring mistakes\n",
        "            except Exception as e:\n",
        "                pass\n",
        "# Executing the creat_data_set() function\n",
        "creat_data_set()\n",
        "# Random order of the data_set list\n",
        "random.shuffle(data_set)\n",
        "\n",
        "# Create an empty list for X and Y\n",
        "X = []\n",
        "Y = []\n",
        "\n",
        "# Iterate through the data_set list, and extract data from it\n",
        "for features, label in data_set:\n",
        "    # Adding features to X list.\n",
        "    X.append(features)\n",
        "    # Adding labels to Y list.\n",
        "    Y.append(label)\n",
        "\n",
        "# Saving X list to X.pickle\n",
        "pickle_out = open(\"/content/gdrive/MyDrive/AndrewsProject1/project_files/X.pickle\", \"wb\")\n",
        "pickle.dump(X, pickle_out, protocol=4)\n",
        "pickle_out.close()\n",
        "\n",
        "# Saving Y list to Y.pickle\n",
        "pickle_out = open(\"/content/gdrive/MyDrive/AndrewsProject1/project_files/Y.pickle\", \"wb\")\n",
        "pickle.dump(Y, pickle_out, protocol=4)\n",
        "pickle_out.close()\n"
      ],
      "metadata": {
        "colab": {
          "base_uri": "https://localhost:8080/"
        },
        "id": "hqixUlqfcAPc",
        "outputId": "931edb1c-fdf8-4c47-eb54-506c53225cd9"
      },
      "execution_count": 3,
      "outputs": [
        {
          "output_type": "stream",
          "name": "stderr",
          "text": [
            "100%|██████████| 60/60 [00:41<00:00,  1.44it/s]\n",
            "100%|██████████| 60/60 [00:44<00:00,  1.36it/s]\n"
          ]
        }
      ]
    }
  ]
}